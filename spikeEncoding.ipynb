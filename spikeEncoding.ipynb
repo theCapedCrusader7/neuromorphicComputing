{
 "cells": [
  {
   "cell_type": "code",
   "execution_count": 2,
   "id": "fc45346b",
   "metadata": {},
   "outputs": [],
   "source": [
    "#importing libraries\n",
    "import numpy as np\n",
    "import sklearn as sk\n",
    "import os\n",
    "import time\n",
    "import random as rn\n",
    "import torch\n",
    "import scipy as sp\n",
    "from sklearn.preprocessing import StandardScaler\n",
    "import h5py\n",
    "import matplotlib.pyplot as plt\n",
    "from matplotlib.gridspec import GridSpec\n",
    "import seaborn as sns\n",
    "import torch.nn as nn\n",
    "import pandas as pd\n",
    "from torchvision import transforms\n",
    "import snntorch as snn\n",
    "from snntorch import utils\n",
    "from torch.utils.data import DataLoader\n",
    "from snntorch import spikegen"
   ]
  },
  {
   "cell_type": "code",
   "execution_count": 5,
   "id": "923a988e",
   "metadata": {},
   "outputs": [],
   "source": [
    "data = pd.read_csv(\"../emg_data_class1.csv\")\n",
    "\n",
    "threshold = 2.5/10000\n",
    "\n",
    "data[data < threshold] = 0\n",
    "data[data > threshold] = 1\n",
    "\n",
    "data.to_csv(\"spiking_data_class1.csv\", index=False)"
   ]
  },
  {
   "cell_type": "code",
   "execution_count": 6,
   "id": "046d96c4",
   "metadata": {},
   "outputs": [],
   "source": [
    "data = pd.read_csv(\"../emg_data_class2.csv\")\n",
    "\n",
    "threshold = 2.5/10000\n",
    "\n",
    "data[data < threshold] = 0\n",
    "data[data > threshold] = 1\n",
    "\n",
    "data.to_csv(\"spiking_data_class2.csv\", index=False)"
   ]
  },
  {
   "cell_type": "code",
   "execution_count": 7,
   "id": "0aa6c68e",
   "metadata": {},
   "outputs": [],
   "source": [
    "data = pd.read_csv(\"../emg_data_class2_test.csv\")\n",
    "\n",
    "threshold = 2.5/10000\n",
    "\n",
    "data[data < threshold] = 0\n",
    "data[data > threshold] = 1\n",
    "\n",
    "data.to_csv(\"spiking_data_class2_test.csv\", index=False)"
   ]
  },
  {
   "cell_type": "code",
   "execution_count": 8,
   "id": "6942b88e",
   "metadata": {},
   "outputs": [],
   "source": [
    "data = pd.read_csv(\"../emg_data_class1_test.csv\")\n",
    "\n",
    "threshold = 2.5/10000\n",
    "\n",
    "data[data < threshold] = 0\n",
    "data[data > threshold] = 1\n",
    "\n",
    "data.to_csv(\"spiking_data_class1_test.csv\", index=False)"
   ]
  },
  {
   "cell_type": "code",
   "execution_count": null,
   "id": "1dfcfcb2",
   "metadata": {},
   "outputs": [],
   "source": []
  },
  {
   "cell_type": "code",
   "execution_count": null,
   "id": "5d1dc588",
   "metadata": {},
   "outputs": [],
   "source": []
  }
 ],
 "metadata": {
  "kernelspec": {
   "display_name": "Python 3 (ipykernel)",
   "language": "python",
   "name": "python3"
  },
  "language_info": {
   "codemirror_mode": {
    "name": "ipython",
    "version": 3
   },
   "file_extension": ".py",
   "mimetype": "text/x-python",
   "name": "python",
   "nbconvert_exporter": "python",
   "pygments_lexer": "ipython3",
   "version": "3.9.12"
  }
 },
 "nbformat": 4,
 "nbformat_minor": 5
}
